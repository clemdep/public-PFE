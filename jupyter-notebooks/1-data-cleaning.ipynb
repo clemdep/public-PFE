{
 "cells": [
  {
   "cell_type": "code",
   "execution_count": 1,
   "metadata": {},
   "outputs": [],
   "source": [
    "import pandas as pd\n",
    "import numpy as np\n",
    "import glob\n",
    "pd.options.display.max_columns = 30\n",
    "pd.options.display.max_rows = 500"
   ]
  },
  {
   "cell_type": "markdown",
   "metadata": {},
   "source": [
    "### First step: preliminary cleaning of the database\n",
    "#### *Preliminary note: the records for 2020 have been extracted in february 2020. Therefore, they are obviously incomplete, which explains some of the discrepancies that can be observed throughout this analysis, regarding the year 2020.*\n",
    "* Concatenate all csvs in a single dataframe\n",
    "* Removing all unnecessary info for the analysis"
   ]
  },
  {
   "cell_type": "code",
   "execution_count": 2,
   "metadata": {},
   "outputs": [],
   "source": [
    "# Concatenating all the csvs\n",
    "csv_files = glob.glob(\"../data/final-data/*.csv\")\n",
    "list_data = []\n",
    "for filename in csv_files:\n",
    "    data = pd.read_csv(filename, encoding = \"latin1\", low_memory=False)\n",
    "    list_data.append(data)\n",
    "df = pd.concat(list_data,ignore_index=True)\n",
    "\n",
    "# Sorting by year\n",
    "df.sort_values(by=[\"EXERCICE\"], ascending = False, inplace=True)\n",
    "\n",
    "# Removing random trailing whitespaces\n",
    "for column in df:\n",
    "    if df[column].dtype == \"O\":\n",
    "        df[column] = df[column].str.strip()\n",
    "\n",
    "# Removal of non-course entries\n",
    "df.dropna(subset=[\"CODE_EPR\"], inplace=True)\n",
    "\n",
    "# Removal of personal identifiable information\n",
    "df.drop(columns=[\"Preelev\", \"Nomelev\", \"DATE_NAISELEV\", \"CIVILELEV\", \"CODE_PAYS_NAT\", \"DOUBLENAT\", \"RKG_NAT\"], inplace=True)\n",
    "\n",
    "# Removal of mandatory courses\n",
    "df = df[df[\"OBLIG\"] != 1]\n",
    "df = df[df[\"OBLIG\"] != 2]\n",
    "df = df[df[\"OBLIG\"] != 3]\n",
    "\n",
    "# Removal of non-PGE students\n",
    "df = df[df[\"CODE_SITE\"] == \"TARGET CAMPUS\"]\n",
    "\n",
    "df.shape\n",
    "try:\n",
    "    df.drop(columns=[\"Unnamed: 0\"], inplace=True)\n",
    "except:\n",
    "    pass\n"
   ]
  },
  {
   "cell_type": "code",
   "execution_count": 3,
   "metadata": {},
   "outputs": [
    {
     "data": {
      "text/plain": [
       "(591319, 23)"
      ]
     },
     "execution_count": 3,
     "metadata": {},
     "output_type": "execute_result"
    }
   ],
   "source": [
    "df.shape"
   ]
  },
  {
   "cell_type": "markdown",
   "metadata": {},
   "source": [
    "#### Result: the dataframe contains approximately 591k records (down from initial >1,500k)"
   ]
  },
  {
   "cell_type": "markdown",
   "metadata": {},
   "source": [
    "### Step two: deep cleaning of the dataset\n",
    "*See comments for details*"
   ]
  },
  {
   "cell_type": "code",
   "execution_count": 4,
   "metadata": {},
   "outputs": [
    {
     "name": "stderr",
     "output_type": "stream",
     "text": [
      "/home/clemdep/anaconda3/lib/python3.7/site-packages/pandas/core/strings.py:1952: UserWarning: This pattern has match groups. To actually get the groups, use str.extract.\n",
      "  return func(self, *args, **kwargs)\n"
     ]
    },
    {
     "name": "stdout",
     "output_type": "stream",
     "text": [
      "operations performed\n",
      "['DR10', 'DR101', 'DR102', 'DR104', 'DR107', 'DR108', 'DR109', 'DR110', 'DR111', 'DR13', 'DR20', 'DR200', 'DR21', 'DR22', 'DR23', 'DR24', 'DR25', 'DR26', 'DR261', 'DR27', 'DR28', 'DR29', 'DR30', 'DR31', 'DR311', 'DR32', 'DR34', 'DR34A', 'DR35', 'DR40', 'DR99', 'EC100', 'EC101', 'EC102', 'EC103', 'EC105', 'EC106', 'EC107', 'EC113', 'EC115', 'EC116', 'EC116A', 'EC117', 'EC118', 'EC139', 'EC203', 'EC204', 'EC21', 'EC23', 'EC33', 'EC34', 'EC35', 'EC37', 'EC38', 'EC40', 'EC42', 'ECETHI', 'GC22', 'GC25', 'GC31', 'GC32', 'GC33', 'GC34', 'GC35', 'GC36', 'GC37', 'GC38', 'GC39', 'GC41', 'GC41A', 'GC43', 'GCC1', 'GF100', 'GF101', 'GF102', 'GF104', 'GF105', 'GF106', 'GF106A', 'GF106S', 'GF107', 'GF109', 'GF109A', 'GF11', 'GF110', 'GF11A', 'GF12', 'GF120', 'GF120A', 'GF121A', 'GF122A', 'GF123', 'GF12A', 'GF13', 'GF130A', 'GF131A', 'GF132', 'GF133', 'GF14', 'GF140', 'GF150', 'GF160', 'GF21', 'GF23', 'GF24', 'GF25', 'GF25A', 'GF26', 'GF26A', 'GF27', 'GF27A', 'GF29', 'GF30', 'GF31', 'GF33', 'GF35', 'GF350', 'GF351', 'GF353', 'GF354', 'GF355', 'GF36', 'GF37', 'GF39', 'GF40', 'GF401A', 'GF402A', 'GF40A', 'GF41A', 'GF55', 'GF56', 'GF57', 'GFA', 'GFP1', 'GG100', 'GG100A', 'GG10CI', 'GG18', 'GG19', 'GG202', 'GG23', 'GG24', 'GG25', 'GG26', 'GG29', 'GG30', 'GG31', 'GG34', 'GG36', 'GG37', 'GG39', 'GG40', 'MK09', 'MK100', 'MK101', 'MK103', 'MK104', 'MK105', 'MK106', 'MK110', 'MK110A', 'MK111', 'MK114', 'MK115', 'MK115A', 'MK116', 'MK117', 'MK118', 'MK119A', 'MK120', 'MK122', 'MK12CI', 'MK13', 'MK14', 'MK14A', 'MK14S', 'MK15', 'MK20', 'MK201', 'MK20A', 'MK21', 'MK210', 'MK23', 'MK23A', 'MK24', 'MK24A', 'MK25A', 'MK26', 'MK27', 'MK28', 'MK29', 'MK30', 'MK31', 'MK32', 'MK33', 'MK34', 'MK340', 'MK341', 'MK342', 'MK344', 'MK345', 'MK346', 'MK347', 'MK348', 'MK34P', 'MK35', 'MK350', 'MK352', 'MK355', 'MK36', 'MK37', 'MK370', 'MK37A', 'MK38', 'MK39', 'MK391', 'MK392', 'MK393', 'MK394', 'MK395', 'MK396', 'MK397', 'MK398', 'MK399', 'MK40', 'MK41', 'MK42', 'MK43', 'MK44', 'MK45', 'MK450', 'MK47', 'MK48', 'MK49', 'MK490', 'MK50', 'MK51', 'MK52', 'MK52A', 'MK54', 'MK55', 'MK57', 'MK58', 'MK59', 'MK590', 'MK60', 'MK60A', 'MK61', 'MK62', 'MK64', 'MK67', 'MK670', 'MK671', 'MK672', 'MK673', 'MK68', 'MK69', 'MK70', 'MK71', 'MK71A', 'MK72', 'MK727', 'MK74', 'MK75', 'MK78', 'MK780', 'MK79', 'MK80', 'MK90', 'MK92', 'MK93', 'MK94', 'MK95', 'MK96', 'MK97', 'MK98', 'MK99', 'MK991', 'MKBVMS', 'MKMBVM', 'MKMSK', 'MKMTI1', 'MKMTI2', 'MKP9', 'MKPI', 'MKS230', 'MKSDL', 'MKSERV', 'MKSYNT', 'MKXGP', 'MT0EX', 'MT100', 'MT101', 'MT102', 'MT103', 'MT104', 'MT105', 'MT106', 'MT107', 'MT108', 'MT110', 'MT110A', 'MT111', 'MT112', 'MT114', 'MT115', 'MT117', 'MT12', 'MT13', 'MT16', 'MT17', 'MT18', 'MT24', 'MT27', 'MT28', 'MT33', 'MT34', 'MT35', 'MT36', 'MT38', 'MT39', 'MT40', 'MT41', 'MT44', 'MT46', 'MT47', 'MT48', 'MT49', 'MT50', 'MT51', 'MTDIS1', 'PG10', 'PG100', 'PG100C', 'PG100F', 'PG101', 'PG101A', 'PG102', 'PG105', 'PG106', 'PG107A', 'PG108', 'PG109', 'PG22', 'PG220', 'PG221', 'PG222', 'PG223', 'PG25', 'PG26', 'PG27', 'PG28', 'PG29', 'PG30', 'PG31', 'PG32', 'PG320', 'PG33', 'PG330', 'PG331', 'PG34', 'PG35', 'PG350A', 'PG36', 'PG40', 'PG42', 'PG43', 'PG44', 'PG45', 'PG46', 'PG47', 'PG49', 'PG490A', 'PG50', 'PG51', 'PG53', 'PG55E', 'PG60', 'PG61', 'PG70', 'PG700', 'PG720', 'PG730', 'PG750', 'PG80', 'PG81', 'PG90', 'PGBGCI', 'PGDIS1', 'PGICP', 'PGMOOC', 'PGSTCI', 'RH007', 'RH008', 'RH103', 'RH106', 'RH106A', 'RH107', 'RH107A', 'RH10CI', 'RH11', 'RH110', 'RH12', 'RH13', 'RH15', 'RH16', 'RH17', 'RH18', 'RH19', 'RH20', 'RH21', 'RH22', 'RH23', 'RH24', 'RH27', 'RH29', 'RH30', 'RH31', 'RH33', 'RH34', 'RH35', 'RH36', 'RH36A', 'RH37', 'RH38', 'RH39', 'RH40', 'RH400', 'RH41', 'RH42', 'RH43', 'RH44', 'RH440', 'RH45', 'RH46', 'RH47', 'RH51', 'RH53', 'RH530', 'RH70', 'RH90', 'RH91', 'RH91A', 'RH95', 'RHEHRM', 'RHGDC', 'RHPM2A', 'RHPM3', 'RHSIE', 'RHSP1', 'RHSP2', 'RHSP3', 'WAP', 'WAP2', 'WATP', 'WEBST']\n"
     ]
    }
   ],
   "source": [
    "# Removing courses with few students or targeted at a very specific audience\n",
    "df = df[~df[\"CODE_EPR\"].astype(str).str.contains(\"^[5OBCILSVX]+\")]\n",
    "df = df[~df[\"CODE_EPR\"].astype(str).str.startswith(\"EM\")]\n",
    "df = df[~df[\"CODE_EPR\"].astype(str).str.startswith(\"HUMA\")]\n",
    "df = df[~df[\"CODE_EPR\"].astype(str).str.startswith(\"EI\")]\n",
    "df = df[~df[\"CODE_EPR\"].astype(str).str.startswith(\"RL\")]\n",
    "df = df[~df[\"CODE_EPR\"].astype(str).str.startswith(\"ERM\")]\n",
    "df = df[~df[\"CODE_EPR\"].astype(str).str.startswith(\"GE\")]\n",
    "df = df[~df[\"CODE_EPR\"].astype(str).str.startswith(\"POL\")]\n",
    "\n",
    "list_of_wrong_courses = [\"TUMMT\",\"TUMESS\", \"GA11\", \"XAPEC\", \"EARN1\", \"EARN2\",\n",
    "                         \"EARN3\", \"EXPEML\", \"MKCONF\", \"MKSUIV\",\"RL1M&I\",\n",
    "                         \"RL3F&S\",\"MAKRAC\"]\n",
    "df=df[~df[\"CODE_EPR\"].str.contains(\"|\".join(list_of_wrong_courses))]\n",
    "\n",
    "# Removal of courses with fewer than 50 students in total\n",
    "df = df.groupby(by=\"CODE_EPR\").filter(lambda x: len(x) >= 50)\n",
    "# Removal of students with less than 10 courses in total\n",
    "df = df.groupby(\"CODELEV\").filter(lambda x: len(x) >= 10)\n",
    "# Replacing SH prefix (Shanghai) with standard course code\n",
    "df[\"CODE_EPR\"] = df[\"CODE_EPR\"].str.replace(\"SH\", \"\")\n",
    "\n",
    "# Removing non-PGE students\n",
    "df=df[df[\"LIBETUDE\"].str.contains(\"^.*(Année|Auditeur|AUDITEUR).*$\")]\n",
    "df=df[~df[\"LIBETUDE\"].str.contains(\"M.S.\")]\n",
    "df=df[~df[\"LIBETUDE\"].str.contains(\"Report\")]\n",
    "df=df[~df[\"LIBETUDE\"].str.contains(\"MBA\")]\n",
    "df=df[~df[\"LIBETUDE\"].str.contains(\"Année 1\")]\n",
    "df=df[~df[\"LIBETUDE\"].str.contains(\"exch\")]\n",
    "df=df[~df[\"LIBETUDE\"].str.contains(\"Auditeur PM\")]\n",
    "\n",
    "try:\n",
    "    # Removing useless fields\n",
    "    col_drop_list = [\"date_deb\", \"date_fin\", \"pays_stage\", \"exe_bul\", \n",
    "                     \"CODE_SITE\", \"CODE_PGM\", \"CODE_ETUDE\", \"CODE_CENTRE\",\n",
    "                     \"Duree_de_stage\"]\n",
    "    df.drop(columns = col_drop_list, inplace=True)\n",
    "except:\n",
    "    pass\n",
    "else:\n",
    "    print(\"operations performed\")\n",
    "\n",
    "# Printing our final list of courses\n",
    "print(sorted(df[\"CODE_EPR\"].unique()))\n",
    "\n",
    "# Making a small df that lists the courses\n",
    "df_ldc = (df.groupby([\"CODE_EPR\", \"libepr\"])[\"CODELEV\"].nunique())"
   ]
  },
  {
   "cell_type": "code",
   "execution_count": 5,
   "metadata": {},
   "outputs": [
    {
     "name": "stdout",
     "output_type": "stream",
     "text": [
      "(111655, 14)\n",
      "(311,)\n"
     ]
    }
   ],
   "source": [
    "print(df.shape)\n",
    "print(df_ldc.unique().shape)"
   ]
  },
  {
   "cell_type": "markdown",
   "metadata": {},
   "source": [
    "#### Result: a dataframe containing approximately 112k records and 311 different courses."
   ]
  },
  {
   "cell_type": "code",
   "execution_count": 6,
   "metadata": {},
   "outputs": [],
   "source": [
    "# Saving the dataframe\n",
    "df.to_csv(\"../data/data-cleaned.csv\")"
   ]
  }
 ],
 "metadata": {
  "kernelspec": {
   "display_name": "Python 3",
   "language": "python",
   "name": "python3"
  },
  "language_info": {
   "codemirror_mode": {
    "name": "ipython",
    "version": 3
   },
   "file_extension": ".py",
   "mimetype": "text/x-python",
   "name": "python",
   "nbconvert_exporter": "python",
   "pygments_lexer": "ipython3",
   "version": "3.7.6"
  }
 },
 "nbformat": 4,
 "nbformat_minor": 4
}
