{
 "cells": [
  {
   "cell_type": "code",
   "execution_count": 1,
   "metadata": {},
   "outputs": [],
   "source": [
    "import sys\n",
    "sys.path.append(\"../src/\")\n",
    "import re\n",
    "import pandas as pd\n",
    "import numpy as np\n",
    "import seaborn as sns\n",
    "import matplotlib.pyplot as plt\n",
    "from PFEmodules import *\n",
    "pd.options.display.max_columns = 100"
   ]
  },
  {
   "cell_type": "code",
   "execution_count": 2,
   "metadata": {},
   "outputs": [],
   "source": [
    "input_path = \"../data/data-cleaned.csv\"\n",
    "df = pd.read_csv(input_path, index_col = None)\n",
    "# Dropping useless that came from the import/export\n",
    "df.drop(columns=[\"Unnamed: 0\"], inplace=True)\n",
    "pd.options.display.max_columns = 30\n",
    "pd.options.display.max_rows = 50"
   ]
  },
  {
   "cell_type": "markdown",
   "metadata": {},
   "source": [
    "### Dataframe preparation\n",
    "* Coding course based on categories (see functions.py in ../src/PFE-modules)\n",
    "* Coding years based on a simple format (2A, 3A etc)\n",
    "* Coding student cohort (year of admission in the school)"
   ]
  },
  {
   "cell_type": "code",
   "execution_count": 3,
   "metadata": {},
   "outputs": [],
   "source": [
    "# Removing year 1997 for it contains only 1 student\n",
    "df.drop(df[df[\"EXERCICE\"]==1997].index, inplace=True)\n",
    "\n",
    "# Adding course code with appropriate function (see functions.py in modules)\n",
    "df[\"CODE_COURS\"] = df.apply(fn.assign_subject, axis=1)\n",
    "\n",
    "# Fix columns order\n",
    "cols=df.columns.tolist()\n",
    "swap1=cols.pop(1)\n",
    "swap2=cols.pop(-1)\n",
    "cols.insert(1, swap2)\n",
    "cols.append(swap1)\n",
    "df = df[cols]\n",
    "\n",
    "# Adding year code\n",
    "df[\"CODE_ANNEE\"] = df.apply(fn.assign_year, axis=1)\n",
    "\n",
    "# Fix columns order\n",
    "cols=df.columns.tolist()\n",
    "swap1=cols.pop(2)\n",
    "swap2=cols.pop(-1)\n",
    "cols.insert(1, swap2)\n",
    "cols.append(swap1)\n",
    "df = df[cols]\n",
    "\n",
    "# Adding cohort code\n",
    "df[\"PROMO\"] = df.apply(fn.get_promo, axis=1)\n",
    "\n",
    "# Fix columns order\n",
    "cols=df.columns.tolist()\n",
    "swap1=cols.pop(4)\n",
    "swap2=cols.pop(-1)\n",
    "cols.insert(3, swap2)\n",
    "cols.append(swap1)\n",
    "df = df[cols]\n",
    "\n",
    "# Dropping year column\n",
    "try:\n",
    "    df.drop(columns=\"LIBETUDE\", inplace=True)\n",
    "except:\n",
    "    pass"
   ]
  },
  {
   "cell_type": "markdown",
   "metadata": {},
   "source": [
    "### Creating smaller dfs"
   ]
  },
  {
   "cell_type": "code",
   "execution_count": 5,
   "metadata": {},
   "outputs": [],
   "source": [
    "# Df counting the number of courses of different categories taken by each student\n",
    "# on the whole of their academic track\n",
    "df_tco = (df.groupby(\"CODELEV\")[\"CODE_COURS\"]\n",
    "         .nunique()\n",
    "         .reset_index(name=\"CTO\")\n",
    "          )\n",
    "\n",
    "# Same as above for a given academic year (2nd, 3rd etc.) \n",
    "df_tcbay = (df.groupby([\"CODELEV\", \"CODE_ANNEE\"])[\"CODE_COURS\"]\n",
    "          .nunique()\n",
    "          .reset_index(name=\"CTBAY\")\n",
    "          .sort_values(by=\"CODELEV\")\n",
    "            )\n",
    "\n",
    "# Creating a df joining the 2 dfs above.\n",
    "df_tcobay = pd.merge(left=df_tco, right=df_tcbay, left_on=\"CODELEV\", right_on=\"CODELEV\")\n",
    "\n",
    "df_cat_with_year = pd.merge(left=df_tco, right=df, left_on=\"CODELEV\", right_on=\"CODELEV\")\n",
    "df_cat_with_year[\"CAT_OMNI\"]=df_cat_with_year.apply(fn.omnivorism_cat, axis=1)\n",
    "df_cat_with_year.drop(columns=[\"CTO\", \"CTO\", \"CODE_ANNEE\"], inplace=True)\n",
    "df_cat_with_year.drop_duplicates(subset=\"CODELEV\", inplace=True)\n",
    "\n",
    "df_prepped = df"
   ]
  },
  {
   "cell_type": "code",
   "execution_count": 6,
   "metadata": {},
   "outputs": [],
   "source": [
    "df_prepped.to_csv(\"../data/data-prepped.csv\")\n",
    "df_tco.to_csv(\"../data/df_tco.csv\")\n",
    "df_tcbay.to_csv(\"../data/df_tcbay.csv\")\n",
    "df_tcobay.to_csv(\"../data/df_tcobay.csv\")\n",
    "df_cat_with_year.to_csv(\"../data/df_cat_with_year.csv\")"
   ]
  }
 ],
 "metadata": {
  "kernelspec": {
   "display_name": "Python 3",
   "language": "python",
   "name": "python3"
  },
  "language_info": {
   "codemirror_mode": {
    "name": "ipython",
    "version": 3
   },
   "file_extension": ".py",
   "mimetype": "text/x-python",
   "name": "python",
   "nbconvert_exporter": "python",
   "pygments_lexer": "ipython3",
   "version": "3.7.6"
  }
 },
 "nbformat": 4,
 "nbformat_minor": 4
}
